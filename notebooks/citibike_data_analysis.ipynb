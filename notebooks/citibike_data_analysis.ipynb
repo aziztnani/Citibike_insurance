{
 "cells": [
  {
   "cell_type": "code",
   "execution_count": 1,
   "id": "b56289c1-7fcc-4023-ae1d-b9bb1bee3a6e",
   "metadata": {},
   "outputs": [],
   "source": [
    "import sys\n",
    "sys.path.append('../src')"
   ]
  },
  {
   "cell_type": "code",
   "execution_count": 5,
   "id": "1dee0998-b6d1-4dee-b1c2-668ac4b1b7df",
   "metadata": {},
   "outputs": [],
   "source": [
    "from data_preprocessing import convert_citibike_zip_to_parquet"
   ]
  },
  {
   "cell_type": "code",
   "execution_count": 6,
   "id": "409b46c0-fdcc-4b20-bfa8-05de99558fcb",
   "metadata": {},
   "outputs": [],
   "source": [
    "citibike_data_zip_path = '../data/raw/2023-citibike-tripdata.zip'\n",
    "processed_data_output_path = '../data/processed/citibike/'"
   ]
  },
  {
   "cell_type": "code",
   "execution_count": 8,
   "id": "05c46aee-88cb-4ec6-8883-d3da683b1fcf",
   "metadata": {},
   "outputs": [
    {
     "name": "stderr",
     "output_type": "stream",
     "text": [
      "C:\\Users\\azizt\\Documents\\case studies\\Citibike_insurance_case_study\\notebooks\\../src\\data_preprocessing.py:50: DtypeWarning: Columns (5,7) have mixed types. Specify dtype option on import or set low_memory=False.\n",
      "  yield pd.read_csv(csv_file), csv_filename\n",
      "C:\\Users\\azizt\\Documents\\case studies\\Citibike_insurance_case_study\\notebooks\\../src\\data_preprocessing.py:54: FutureWarning: The behavior of DataFrame concatenation with empty or all-NA entries is deprecated. In a future version, this will no longer exclude empty or all-NA columns when determining the result dtypes. To retain the old behavior, exclude the relevant entries before the concat operation.\n",
      "  all_stations = pd.concat([all_stations, new_stations])\n",
      "C:\\Users\\azizt\\Documents\\case studies\\Citibike_insurance_case_study\\notebooks\\../src\\data_preprocessing.py:50: DtypeWarning: Columns (5,7) have mixed types. Specify dtype option on import or set low_memory=False.\n",
      "  yield pd.read_csv(csv_file), csv_filename\n",
      "C:\\Users\\azizt\\Documents\\case studies\\Citibike_insurance_case_study\\notebooks\\../src\\data_preprocessing.py:50: DtypeWarning: Columns (5,7) have mixed types. Specify dtype option on import or set low_memory=False.\n",
      "  yield pd.read_csv(csv_file), csv_filename\n",
      "C:\\Users\\azizt\\Documents\\case studies\\Citibike_insurance_case_study\\notebooks\\../src\\data_preprocessing.py:50: DtypeWarning: Columns (5,7) have mixed types. Specify dtype option on import or set low_memory=False.\n",
      "  yield pd.read_csv(csv_file), csv_filename\n",
      "C:\\Users\\azizt\\Documents\\case studies\\Citibike_insurance_case_study\\notebooks\\../src\\data_preprocessing.py:50: DtypeWarning: Columns (5,7) have mixed types. Specify dtype option on import or set low_memory=False.\n",
      "  yield pd.read_csv(csv_file), csv_filename\n",
      "C:\\Users\\azizt\\Documents\\case studies\\Citibike_insurance_case_study\\notebooks\\../src\\data_preprocessing.py:50: DtypeWarning: Columns (5,7) have mixed types. Specify dtype option on import or set low_memory=False.\n",
      "  yield pd.read_csv(csv_file), csv_filename\n",
      "C:\\Users\\azizt\\Documents\\case studies\\Citibike_insurance_case_study\\notebooks\\../src\\data_preprocessing.py:50: DtypeWarning: Columns (5,7) have mixed types. Specify dtype option on import or set low_memory=False.\n",
      "  yield pd.read_csv(csv_file), csv_filename\n",
      "C:\\Users\\azizt\\Documents\\case studies\\Citibike_insurance_case_study\\notebooks\\../src\\data_preprocessing.py:50: DtypeWarning: Columns (5,7) have mixed types. Specify dtype option on import or set low_memory=False.\n",
      "  yield pd.read_csv(csv_file), csv_filename\n",
      "C:\\Users\\azizt\\Documents\\case studies\\Citibike_insurance_case_study\\notebooks\\../src\\data_preprocessing.py:50: DtypeWarning: Columns (5,7) have mixed types. Specify dtype option on import or set low_memory=False.\n",
      "  yield pd.read_csv(csv_file), csv_filename\n",
      "C:\\Users\\azizt\\Documents\\case studies\\Citibike_insurance_case_study\\notebooks\\../src\\data_preprocessing.py:50: DtypeWarning: Columns (5,7) have mixed types. Specify dtype option on import or set low_memory=False.\n",
      "  yield pd.read_csv(csv_file), csv_filename\n",
      "C:\\Users\\azizt\\Documents\\case studies\\Citibike_insurance_case_study\\notebooks\\../src\\data_preprocessing.py:50: DtypeWarning: Columns (5,7) have mixed types. Specify dtype option on import or set low_memory=False.\n",
      "  yield pd.read_csv(csv_file), csv_filename\n",
      "C:\\Users\\azizt\\Documents\\case studies\\Citibike_insurance_case_study\\notebooks\\../src\\data_preprocessing.py:50: DtypeWarning: Columns (7) have mixed types. Specify dtype option on import or set low_memory=False.\n",
      "  yield pd.read_csv(csv_file), csv_filename\n",
      "C:\\Users\\azizt\\Documents\\case studies\\Citibike_insurance_case_study\\notebooks\\../src\\data_preprocessing.py:50: DtypeWarning: Columns (7) have mixed types. Specify dtype option on import or set low_memory=False.\n",
      "  yield pd.read_csv(csv_file), csv_filename\n",
      "C:\\Users\\azizt\\Documents\\case studies\\Citibike_insurance_case_study\\notebooks\\../src\\data_preprocessing.py:50: DtypeWarning: Columns (7) have mixed types. Specify dtype option on import or set low_memory=False.\n",
      "  yield pd.read_csv(csv_file), csv_filename\n",
      "C:\\Users\\azizt\\Documents\\case studies\\Citibike_insurance_case_study\\notebooks\\../src\\data_preprocessing.py:50: DtypeWarning: Columns (5,7) have mixed types. Specify dtype option on import or set low_memory=False.\n",
      "  yield pd.read_csv(csv_file), csv_filename\n",
      "C:\\Users\\azizt\\Documents\\case studies\\Citibike_insurance_case_study\\notebooks\\../src\\data_preprocessing.py:50: DtypeWarning: Columns (5,7) have mixed types. Specify dtype option on import or set low_memory=False.\n",
      "  yield pd.read_csv(csv_file), csv_filename\n",
      "C:\\Users\\azizt\\Documents\\case studies\\Citibike_insurance_case_study\\notebooks\\../src\\data_preprocessing.py:50: DtypeWarning: Columns (5,7) have mixed types. Specify dtype option on import or set low_memory=False.\n",
      "  yield pd.read_csv(csv_file), csv_filename\n",
      "C:\\Users\\azizt\\Documents\\case studies\\Citibike_insurance_case_study\\notebooks\\../src\\data_preprocessing.py:50: DtypeWarning: Columns (7) have mixed types. Specify dtype option on import or set low_memory=False.\n",
      "  yield pd.read_csv(csv_file), csv_filename\n",
      "C:\\Users\\azizt\\Documents\\case studies\\Citibike_insurance_case_study\\notebooks\\../src\\data_preprocessing.py:50: DtypeWarning: Columns (7) have mixed types. Specify dtype option on import or set low_memory=False.\n",
      "  yield pd.read_csv(csv_file), csv_filename\n",
      "C:\\Users\\azizt\\Documents\\case studies\\Citibike_insurance_case_study\\notebooks\\../src\\data_preprocessing.py:50: DtypeWarning: Columns (7) have mixed types. Specify dtype option on import or set low_memory=False.\n",
      "  yield pd.read_csv(csv_file), csv_filename\n",
      "C:\\Users\\azizt\\Documents\\case studies\\Citibike_insurance_case_study\\notebooks\\../src\\data_preprocessing.py:50: DtypeWarning: Columns (7) have mixed types. Specify dtype option on import or set low_memory=False.\n",
      "  yield pd.read_csv(csv_file), csv_filename\n",
      "C:\\Users\\azizt\\Documents\\case studies\\Citibike_insurance_case_study\\notebooks\\../src\\data_preprocessing.py:50: DtypeWarning: Columns (7) have mixed types. Specify dtype option on import or set low_memory=False.\n",
      "  yield pd.read_csv(csv_file), csv_filename\n",
      "C:\\Users\\azizt\\Documents\\case studies\\Citibike_insurance_case_study\\notebooks\\../src\\data_preprocessing.py:50: DtypeWarning: Columns (5,7) have mixed types. Specify dtype option on import or set low_memory=False.\n",
      "  yield pd.read_csv(csv_file), csv_filename\n",
      "C:\\Users\\azizt\\Documents\\case studies\\Citibike_insurance_case_study\\notebooks\\../src\\data_preprocessing.py:50: DtypeWarning: Columns (5,7) have mixed types. Specify dtype option on import or set low_memory=False.\n",
      "  yield pd.read_csv(csv_file), csv_filename\n",
      "C:\\Users\\azizt\\Documents\\case studies\\Citibike_insurance_case_study\\notebooks\\../src\\data_preprocessing.py:50: DtypeWarning: Columns (5,7) have mixed types. Specify dtype option on import or set low_memory=False.\n",
      "  yield pd.read_csv(csv_file), csv_filename\n",
      "C:\\Users\\azizt\\Documents\\case studies\\Citibike_insurance_case_study\\notebooks\\../src\\data_preprocessing.py:50: DtypeWarning: Columns (5,7) have mixed types. Specify dtype option on import or set low_memory=False.\n",
      "  yield pd.read_csv(csv_file), csv_filename\n",
      "C:\\Users\\azizt\\Documents\\case studies\\Citibike_insurance_case_study\\notebooks\\../src\\data_preprocessing.py:50: DtypeWarning: Columns (5,7) have mixed types. Specify dtype option on import or set low_memory=False.\n",
      "  yield pd.read_csv(csv_file), csv_filename\n",
      "C:\\Users\\azizt\\Documents\\case studies\\Citibike_insurance_case_study\\notebooks\\../src\\data_preprocessing.py:50: DtypeWarning: Columns (5) have mixed types. Specify dtype option on import or set low_memory=False.\n",
      "  yield pd.read_csv(csv_file), csv_filename\n",
      "C:\\Users\\azizt\\Documents\\case studies\\Citibike_insurance_case_study\\notebooks\\../src\\data_preprocessing.py:50: DtypeWarning: Columns (7) have mixed types. Specify dtype option on import or set low_memory=False.\n",
      "  yield pd.read_csv(csv_file), csv_filename\n",
      "C:\\Users\\azizt\\Documents\\case studies\\Citibike_insurance_case_study\\notebooks\\../src\\data_preprocessing.py:50: DtypeWarning: Columns (5,7) have mixed types. Specify dtype option on import or set low_memory=False.\n",
      "  yield pd.read_csv(csv_file), csv_filename\n",
      "C:\\Users\\azizt\\Documents\\case studies\\Citibike_insurance_case_study\\notebooks\\../src\\data_preprocessing.py:50: DtypeWarning: Columns (7) have mixed types. Specify dtype option on import or set low_memory=False.\n",
      "  yield pd.read_csv(csv_file), csv_filename\n",
      "C:\\Users\\azizt\\Documents\\case studies\\Citibike_insurance_case_study\\notebooks\\../src\\data_preprocessing.py:50: DtypeWarning: Columns (5,7) have mixed types. Specify dtype option on import or set low_memory=False.\n",
      "  yield pd.read_csv(csv_file), csv_filename\n",
      "C:\\Users\\azizt\\Documents\\case studies\\Citibike_insurance_case_study\\notebooks\\../src\\data_preprocessing.py:50: DtypeWarning: Columns (5,7) have mixed types. Specify dtype option on import or set low_memory=False.\n",
      "  yield pd.read_csv(csv_file), csv_filename\n",
      "C:\\Users\\azizt\\Documents\\case studies\\Citibike_insurance_case_study\\notebooks\\../src\\data_preprocessing.py:50: DtypeWarning: Columns (5,7) have mixed types. Specify dtype option on import or set low_memory=False.\n",
      "  yield pd.read_csv(csv_file), csv_filename\n",
      "C:\\Users\\azizt\\Documents\\case studies\\Citibike_insurance_case_study\\notebooks\\../src\\data_preprocessing.py:50: DtypeWarning: Columns (5,7) have mixed types. Specify dtype option on import or set low_memory=False.\n",
      "  yield pd.read_csv(csv_file), csv_filename\n",
      "C:\\Users\\azizt\\Documents\\case studies\\Citibike_insurance_case_study\\notebooks\\../src\\data_preprocessing.py:50: DtypeWarning: Columns (7) have mixed types. Specify dtype option on import or set low_memory=False.\n",
      "  yield pd.read_csv(csv_file), csv_filename\n",
      "C:\\Users\\azizt\\Documents\\case studies\\Citibike_insurance_case_study\\notebooks\\../src\\data_preprocessing.py:50: DtypeWarning: Columns (5,7) have mixed types. Specify dtype option on import or set low_memory=False.\n",
      "  yield pd.read_csv(csv_file), csv_filename\n",
      "C:\\Users\\azizt\\Documents\\case studies\\Citibike_insurance_case_study\\notebooks\\../src\\data_preprocessing.py:50: DtypeWarning: Columns (7) have mixed types. Specify dtype option on import or set low_memory=False.\n",
      "  yield pd.read_csv(csv_file), csv_filename\n",
      "C:\\Users\\azizt\\Documents\\case studies\\Citibike_insurance_case_study\\notebooks\\../src\\data_preprocessing.py:50: DtypeWarning: Columns (5,7) have mixed types. Specify dtype option on import or set low_memory=False.\n",
      "  yield pd.read_csv(csv_file), csv_filename\n"
     ]
    }
   ],
   "source": [
    "convert_citibike_zip_to_parquet(citibike_data_zip_path, processed_data_output_path)"
   ]
  },
  {
   "cell_type": "code",
   "execution_count": null,
   "id": "77d65306-3be5-4e70-b1a4-0bb38ae20672",
   "metadata": {},
   "outputs": [],
   "source": []
  }
 ],
 "metadata": {
  "kernelspec": {
   "display_name": "Python 3 (ipykernel)",
   "language": "python",
   "name": "python3"
  },
  "language_info": {
   "codemirror_mode": {
    "name": "ipython",
    "version": 3
   },
   "file_extension": ".py",
   "mimetype": "text/x-python",
   "name": "python",
   "nbconvert_exporter": "python",
   "pygments_lexer": "ipython3",
   "version": "3.12.4"
  }
 },
 "nbformat": 4,
 "nbformat_minor": 5
}
